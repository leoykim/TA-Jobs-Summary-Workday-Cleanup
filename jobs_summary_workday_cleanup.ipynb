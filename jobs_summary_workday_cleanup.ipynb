{
  "nbformat": 4,
  "nbformat_minor": 0,
  "metadata": {
    "colab": {
      "name": "jobs summary workday cleanup.ipynb",
      "provenance": []
    },
    "kernelspec": {
      "name": "python3",
      "display_name": "Python 3"
    },
    "language_info": {
      "name": "python"
    }
  },
  "cells": [
    {
      "cell_type": "code",
      "source": [
        "#upload workday's My_Recruiting_Jobs_-_More_Details report and transform\n",
        "\n",
        "#import packages\n",
        "import pandas as pd\n",
        "import os\n",
        "import io\n",
        "import numpy as np"
      ],
      "metadata": {
        "id": "1x8wYZk3ODx7"
      },
      "execution_count": null,
      "outputs": []
    },
    {
      "cell_type": "code",
      "execution_count": null,
      "metadata": {
        "id": "Clc-nbfkOCd8"
      },
      "outputs": [],
      "source": [
        "#upload file\n",
        "from google.colab import files\n",
        "uploaded = files.upload()\n",
        "\n",
        "df = pd.read_excel(io.BytesIO(uploaded['My_Recruiting_Jobs_-_More_Details.xlsx']))"
      ]
    },
    {
      "cell_type": "code",
      "source": [
        "#remove reqs with 0 openings\n",
        "df = df.loc[df['Number of Openings Available'] != 0]\n",
        "\n",
        "#remove reqs with 'freeze' or 'filled' in req name\n",
        "df = df.loc[df['Job Requisition'].str.contains('Freeze Date')==False]\n",
        "df = df.loc[df['Job Requisition'].str.contains('Fill Date')==False]\n"
      ],
      "metadata": {
        "id": "KSErXp75OKjz"
      },
      "execution_count": null,
      "outputs": []
    },
    {
      "cell_type": "code",
      "source": [
        "#fix dtypes\n",
        "# print(df.dtypes)\n",
        "\n",
        "#remove extra text from start date col\n",
        "df['Recruiting Start Date'] = df['Recruiting Start Date'].str[:10]\n",
        "#change to date type\n",
        "df['Recruiting Start Date'] = pd.to_datetime(df['Recruiting Start Date'], format='%m/%d/%Y')\n",
        "df['Recruiting Start Date'] = df['Recruiting Start Date'].dt.date\n",
        "\n",
        "#remove extra text in job requisition column\n",
        "df['Job Requisition'] = df['Job Requisition'].str[9:-7]\n",
        "\n",
        "#remove columns\n",
        "df = df.drop(['Candidates in Review Stage', 'Active Candidates', 'Manager Photo', 'Supervisory Organization', 'Additional Locations',\n",
        "         'Date Request Entered', 'Request Completed Date', 'Target Hire Date', 'Job Family'], axis=1)\n",
        "         \n",
        "#add columns\n",
        "df['Status'] = ''\n",
        "df['Days Open'] = np.nan\n",
        "df['Notes'] =''\n",
        "\n",
        "#reorganize column order\n",
        "df = df[['Job Requisition', 'Status', 'Number of Openings Available', 'Recruiting Start Date', 'Days Open',\n",
        "         'Notes', 'Recruiter', 'Division', 'Cost Center Hierarchy', 'Cost Center',\n",
        "         'Primary Location', 'Hiring Manager', 'Create Job Requisition Reason', 'Replacement for Worker']]\n",
        "\n",
        "#rename column names\n",
        "df = df.rename(columns={'Job Requisition':'Job', 'Number of Openings Available':'Openings', 'Recruiting Start Date':'Open Date', \n",
        "                        'Cost Center Hierarchy':'Business Unit', 'Cost Center':'Department', 'Create Job Requisition Reason':'Reason for Hire', \n",
        "                        })"
      ],
      "metadata": {
        "id": "0LtGlWuwONFL"
      },
      "execution_count": null,
      "outputs": []
    },
    {
      "cell_type": "code",
      "source": [
        "#correct reason for hire text\n",
        "df['Reason for Hire'].mask(df['Reason for Hire'] == 'Recruiting > Backfill', 'Backfill', inplace=True)\n",
        "df['Reason for Hire'].mask(df['Reason for Hire'] == 'Recruiting > New Hire', 'New Hire', inplace=True)\n",
        "\n",
        "#sort\n",
        "df.sort_values(['Recruiter', 'Division', 'Business Unit', 'Department'], inplace=True)"
      ],
      "metadata": {
        "id": "k8HnSyGCOTOp"
      },
      "execution_count": null,
      "outputs": []
    },
    {
      "cell_type": "code",
      "source": [
        "df.to_excel('Jobs Summary WD.xlsx', encoding = 'utf-8-sig', index=False) \n",
        "files.download('Jobs Summary WD.xlsx')"
      ],
      "metadata": {
        "id": "YmQd389cOVLH"
      },
      "execution_count": null,
      "outputs": []
    }
  ]
}